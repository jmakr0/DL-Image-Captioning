{
 "cells": [
  {
   "cell_type": "code",
   "execution_count": 1,
   "metadata": {
    "collapsed": false
   },
   "outputs": [
    {
     "name": "stderr",
     "output_type": "stream",
     "text": [
      "Using TensorFlow backend.\n"
     ]
    }
   ],
   "source": [
    "import sys; sys.argv=['']; del sys\n",
    "import numpy as np\n",
    "import os\n",
    "from args import get_parser\n",
    "from utils.dataloader import DataLoader\n",
    "from utils.config import get_opt\n",
    "from utils.lang_proc import idx2word, sample\n",
    "from model import get_model\n",
    "import pickle\n",
    "import json\n",
    "import time"
   ]
  },
  {
   "cell_type": "code",
   "execution_count": 2,
   "metadata": {
    "collapsed": true
   },
   "outputs": [],
   "source": [
    "parser = get_parser()\n",
    "args_dict = parser.parse_args()\n",
    "args_dict.mode = 'test'\n",
    "args_dict.bs = 1\n",
    "args_dict.cnn_train = True\n",
    "args_dict.sgate = True\n",
    "args_dict.model_file = '/work/asalvador/sat_keras/models/sgate_cnn_train_weights_.e8_CIDEr0.86.h5'"
   ]
  },
  {
   "cell_type": "code",
   "execution_count": 3,
   "metadata": {
    "collapsed": false
   },
   "outputs": [
    {
     "name": "stderr",
     "output_type": "stream",
     "text": [
      "/imatge/asalvador/workspace/sat_keras/venv/local/lib/python2.7/site-packages/keras/engine/topology.py:379: UserWarning: The `regularizers` property of layers/models is deprecated. Regularization losses are now managed via the `losses` layer/model property.\n",
      "  warnings.warn('The `regularizers` property of layers/models '\n",
      "/imatge/asalvador/workspace/sat_keras/venv/local/lib/python2.7/site-packages/keras/regularizers.py:18: UserWarning: The `set_param` method on regularizers is deprecated. It no longer does anything, and it will be removed after 06/2017.\n",
      "  warnings.warn('The `set_param` method on regularizers is deprecated. '\n",
      "/imatge/asalvador/workspace/sat_keras/venv/local/lib/python2.7/site-packages/keras/engine/topology.py:371: UserWarning: The `regularizers` property of layers/models is deprecated. Regularization losses are now managed via the `losses` layer/model property.\n",
      "  warnings.warn('The `regularizers` property of '\n"
     ]
    }
   ],
   "source": [
    "model = get_model(args_dict)\n",
    "opt = get_opt(args_dict)\n",
    "\n",
    "weights = args_dict.model_file\n",
    "model.load_weights(weights)\n",
    "vocab_file = os.path.join(args_dict.data_folder,'data',args_dict.vfile)\n",
    "vocab = pickle.load(open(vocab_file,'rb'))\n",
    "inv_vocab = {v:k for k,v in vocab.items()}\n",
    "\n",
    "model.compile(optimizer=opt,loss='categorical_crossentropy')"
   ]
  },
  {
   "cell_type": "code",
   "execution_count": 4,
   "metadata": {
    "collapsed": true
   },
   "outputs": [],
   "source": [
    "dataloader = DataLoader(args_dict)\n",
    "N_train, N_val, N_test = dataloader.get_dataset_size()\n",
    "N = args_dict.bs\n",
    "gen = dataloader.generator('test',batch_size=args_dict.bs,train_flag=False)"
   ]
  },
  {
   "cell_type": "code",
   "execution_count": 8,
   "metadata": {
    "collapsed": false
   },
   "outputs": [
    {
     "name": "stdout",
     "output_type": "stream",
     "text": [
      "ID: COCO_val2014_000000550529.jpg\n",
      "T: a motorbike sitting in front of a wine display case <eos>\n",
      "B: a black and white motorcycle is sitting on a wooden bench .\n",
      "G: a black and white motorcycle is parked in a row .\n",
      "==========\n",
      "ID: COCO_val2014_000000348881.jpg\n",
      "T: a large jetliner sitting on top of an airport runway . <eos>\n",
      "B: a man standing next to a white plane .\n",
      "G: a man standing next to a white plane .\n",
      "==========\n",
      "ID: COCO_val2014_000000560623.jpg\n",
      "T: an airport filled with planes sitting on <unk> . <eos>\n",
      "B: a view of a large airplane on the runway .\n",
      "G: a large group of people standing in front of a plane .\n",
      "==========\n",
      "ID: COCO_val2014_000000561100.jpg\n",
      "T: a small blue plane sitting on top of a field . <eos>\n",
      "B: a small airplane is flying in the air .\n",
      "G: a small airplane is flying in the air .\n",
      "==========\n",
      "ID: COCO_val2014_000000354533.jpg\n",
      "T: a motorcycle sits parked across from a herd of livestock . <eos>\n",
      "B: a man riding a motorcycle with a flag on it .\n",
      "G: a man riding a motorcycle with a flag on it .\n",
      "==========\n",
      "ID: COCO_val2014_000000334321.jpg\n",
      "T: a large white dog is sitting on a bench beside an elderly man . <eos>\n",
      "B: a dog is sitting on a bench with a dog .\n",
      "G: a dog is sitting on a bench in a park .\n",
      "==========\n",
      "ID: COCO_val2014_000000368117.jpg\n",
      "T: a couple of traffic lights sitting under a cloudy sky . <eos>\n",
      "B: a traffic light with a red light and a red light .\n",
      "G: a traffic light with a red light and a red light .\n",
      "==========\n",
      "ID: COCO_val2014_000000165547.jpg\n",
      "T: an eating area with a table and a few chairs . <eos>\n",
      "B: a table with a table and a table in it\n",
      "G: a table with a table and a table in it\n",
      "==========\n",
      "ID: COCO_val2014_000000455859.jpg\n",
      "T: a little girl in a pink shirt standing near a blue metal sculpture . <eos>\n",
      "B: a group of people standing around a building .\n",
      "G: a group of people standing around a building .\n",
      "==========\n",
      "ID: COCO_val2014_000000290570.jpg\n",
      "T: a herd of sheep standing on top of snow covered field . <eos>\n",
      "B: a herd of sheep standing on top of a lush green field .\n",
      "G: a herd of sheep grazing in a fenced in area .\n",
      "==========\n",
      "ID: COCO_val2014_000000281455.jpg\n",
      "T: a flock of small birds flying in the sky over the water . <eos>\n",
      "B: a large group of people flying kites on the beach .\n",
      "G: a large group of people flying a kite on the beach .\n",
      "==========\n",
      "ID: COCO_val2014_000000017756.jpg\n",
      "T: a swan is floating down the river by the boat . <eos>\n",
      "B: a group of people are standing in a field .\n",
      "G: a group of people standing around a red and white boat .\n",
      "==========\n",
      "ID: COCO_val2014_000000305821.jpg\n",
      "T: a giraffe grazing on a tree in the wilderness with other wildlife <eos>\n",
      "B: two giraffes standing in a grassy field with trees in the background .\n",
      "G: two giraffes standing in a grassy area with trees in the background .\n",
      "==========\n",
      "ID: COCO_val2014_000000459374.jpg\n",
      "T: there are blue lights shining threw palm trees <eos>\n",
      "B: a fire hydrant is on the side of a road .\n",
      "G: a fire hydrant is on the side of the road .\n",
      "==========\n",
      "ID: COCO_val2014_000000208589.jpg\n",
      "T: a bird in a pot eating a fruit . <eos>\n",
      "B: a black bird sitting on top of a wooden crate .\n",
      "G: a black bird is sitting on a wooden bench .\n",
      "==========\n",
      "ID: COCO_val2014_000000358342.jpg\n",
      "T: a tall massive clock tower towering over a city . <eos>\n",
      "B: a tall building with a clock on top of it .\n",
      "G: a tall building with a clock on top of it .\n",
      "==========\n",
      "ID: COCO_val2014_000000074711.jpg\n",
      "T: two ducks floating together on a body of water . <eos>\n",
      "B: two ducks swimming in a body of water .\n",
      "G: two ducks swimming in a body of water\n",
      "==========\n",
      "ID: COCO_val2014_000000058636.jpg\n",
      "T: a large wooden pole with a green street sign hanging from it . <eos>\n",
      "B: a street sign with a street sign on it .\n",
      "G: a street sign with a green street sign on it .\n",
      "==========\n",
      "ID: COCO_val2014_000000197461.jpg\n",
      "T: a ram is looking at the camera and standing on some grass <eos>\n",
      "B: a sheep standing in a field with a large sheep in it .\n",
      "G: a sheep standing in a field with a large sheep in it .\n",
      "==========\n",
      "ID: COCO_val2014_000000165029.jpg\n",
      "T: a man with a snowboard next to a man with a mask . <eos>\n",
      "B: a man and woman are standing next to each other .\n"
     ]
    },
    {
     "ename": "KeyboardInterrupt",
     "evalue": "",
     "output_type": "error",
     "traceback": [
      "\u001b[0;31m---------------------------------------------------------------------------\u001b[0m",
      "\u001b[0;31mKeyboardInterrupt\u001b[0m                         Traceback (most recent call last)",
      "\u001b[0;32m<ipython-input-8-99ac19ca4da3>\u001b[0m in \u001b[0;36m<module>\u001b[0;34m()\u001b[0m\n\u001b[1;32m     34\u001b[0m     \u001b[0;32mfor\u001b[0m \u001b[0mi\u001b[0m \u001b[0;32min\u001b[0m \u001b[0mrange\u001b[0m\u001b[0;34m(\u001b[0m\u001b[0margs_dict\u001b[0m\u001b[0;34m.\u001b[0m\u001b[0mseqlen\u001b[0m\u001b[0;34m)\u001b[0m\u001b[0;34m:\u001b[0m\u001b[0;34m\u001b[0m\u001b[0m\n\u001b[1;32m     35\u001b[0m         \u001b[0;31m# get predictions\u001b[0m\u001b[0;34m\u001b[0m\u001b[0;34m\u001b[0m\u001b[0m\n\u001b[0;32m---> 36\u001b[0;31m         \u001b[0mpreds\u001b[0m \u001b[0;34m=\u001b[0m \u001b[0mmodel\u001b[0m\u001b[0;34m.\u001b[0m\u001b[0mpredict_on_batch\u001b[0m\u001b[0;34m(\u001b[0m\u001b[0;34m[\u001b[0m\u001b[0mims\u001b[0m\u001b[0;34m,\u001b[0m\u001b[0mprevs\u001b[0m\u001b[0;34m]\u001b[0m\u001b[0;34m)\u001b[0m \u001b[0;31m#(N,1,vocab_size)\u001b[0m\u001b[0;34m\u001b[0m\u001b[0m\n\u001b[0m\u001b[1;32m     37\u001b[0m         \u001b[0mpreds\u001b[0m \u001b[0;34m=\u001b[0m \u001b[0mpreds\u001b[0m\u001b[0;34m.\u001b[0m\u001b[0msqueeze\u001b[0m\u001b[0;34m(\u001b[0m\u001b[0;34m)\u001b[0m\u001b[0;34m\u001b[0m\u001b[0m\n\u001b[1;32m     38\u001b[0m \u001b[0;34m\u001b[0m\u001b[0m\n",
      "\u001b[0;32m/imatge/asalvador/workspace/sat_keras/venv/local/lib/python2.7/site-packages/keras/engine/training.pyc\u001b[0m in \u001b[0;36mpredict_on_batch\u001b[0;34m(self, x)\u001b[0m\n\u001b[1;32m   1371\u001b[0m             \u001b[0mins\u001b[0m \u001b[0;34m=\u001b[0m \u001b[0mx\u001b[0m\u001b[0;34m\u001b[0m\u001b[0m\n\u001b[1;32m   1372\u001b[0m         \u001b[0mself\u001b[0m\u001b[0;34m.\u001b[0m\u001b[0m_make_predict_function\u001b[0m\u001b[0;34m(\u001b[0m\u001b[0;34m)\u001b[0m\u001b[0;34m\u001b[0m\u001b[0m\n\u001b[0;32m-> 1373\u001b[0;31m         \u001b[0moutputs\u001b[0m \u001b[0;34m=\u001b[0m \u001b[0mself\u001b[0m\u001b[0;34m.\u001b[0m\u001b[0mpredict_function\u001b[0m\u001b[0;34m(\u001b[0m\u001b[0mins\u001b[0m\u001b[0;34m)\u001b[0m\u001b[0;34m\u001b[0m\u001b[0m\n\u001b[0m\u001b[1;32m   1374\u001b[0m         \u001b[0;32mif\u001b[0m \u001b[0mlen\u001b[0m\u001b[0;34m(\u001b[0m\u001b[0moutputs\u001b[0m\u001b[0;34m)\u001b[0m \u001b[0;34m==\u001b[0m \u001b[0;36m1\u001b[0m\u001b[0;34m:\u001b[0m\u001b[0;34m\u001b[0m\u001b[0m\n\u001b[1;32m   1375\u001b[0m             \u001b[0;32mreturn\u001b[0m \u001b[0moutputs\u001b[0m\u001b[0;34m[\u001b[0m\u001b[0;36m0\u001b[0m\u001b[0;34m]\u001b[0m\u001b[0;34m\u001b[0m\u001b[0m\n",
      "\u001b[0;32m/imatge/asalvador/workspace/sat_keras/venv/local/lib/python2.7/site-packages/keras/backend/tensorflow_backend.pyc\u001b[0m in \u001b[0;36m__call__\u001b[0;34m(self, inputs)\u001b[0m\n\u001b[1;32m   1898\u001b[0m         \u001b[0msession\u001b[0m \u001b[0;34m=\u001b[0m \u001b[0mget_session\u001b[0m\u001b[0;34m(\u001b[0m\u001b[0;34m)\u001b[0m\u001b[0;34m\u001b[0m\u001b[0m\n\u001b[1;32m   1899\u001b[0m         updated = session.run(self.outputs + [self.updates_op],\n\u001b[0;32m-> 1900\u001b[0;31m                               feed_dict=feed_dict)\n\u001b[0m\u001b[1;32m   1901\u001b[0m         \u001b[0;32mreturn\u001b[0m \u001b[0mupdated\u001b[0m\u001b[0;34m[\u001b[0m\u001b[0;34m:\u001b[0m\u001b[0mlen\u001b[0m\u001b[0;34m(\u001b[0m\u001b[0mself\u001b[0m\u001b[0;34m.\u001b[0m\u001b[0moutputs\u001b[0m\u001b[0;34m)\u001b[0m\u001b[0;34m]\u001b[0m\u001b[0;34m\u001b[0m\u001b[0m\n\u001b[1;32m   1902\u001b[0m \u001b[0;34m\u001b[0m\u001b[0m\n",
      "\u001b[0;32m/imatge/asalvador/workspace/sat_keras/venv/local/lib/python2.7/site-packages/tensorflow/python/client/session.pyc\u001b[0m in \u001b[0;36mrun\u001b[0;34m(self, fetches, feed_dict, options, run_metadata)\u001b[0m\n\u001b[1;32m    764\u001b[0m     \u001b[0;32mtry\u001b[0m\u001b[0;34m:\u001b[0m\u001b[0;34m\u001b[0m\u001b[0m\n\u001b[1;32m    765\u001b[0m       result = self._run(None, fetches, feed_dict, options_ptr,\n\u001b[0;32m--> 766\u001b[0;31m                          run_metadata_ptr)\n\u001b[0m\u001b[1;32m    767\u001b[0m       \u001b[0;32mif\u001b[0m \u001b[0mrun_metadata\u001b[0m\u001b[0;34m:\u001b[0m\u001b[0;34m\u001b[0m\u001b[0m\n\u001b[1;32m    768\u001b[0m         \u001b[0mproto_data\u001b[0m \u001b[0;34m=\u001b[0m \u001b[0mtf_session\u001b[0m\u001b[0;34m.\u001b[0m\u001b[0mTF_GetBuffer\u001b[0m\u001b[0;34m(\u001b[0m\u001b[0mrun_metadata_ptr\u001b[0m\u001b[0;34m)\u001b[0m\u001b[0;34m\u001b[0m\u001b[0m\n",
      "\u001b[0;32m/imatge/asalvador/workspace/sat_keras/venv/local/lib/python2.7/site-packages/tensorflow/python/client/session.pyc\u001b[0m in \u001b[0;36m_run\u001b[0;34m(self, handle, fetches, feed_dict, options, run_metadata)\u001b[0m\n\u001b[1;32m    962\u001b[0m     \u001b[0;32mif\u001b[0m \u001b[0mfinal_fetches\u001b[0m \u001b[0;32mor\u001b[0m \u001b[0mfinal_targets\u001b[0m\u001b[0;34m:\u001b[0m\u001b[0;34m\u001b[0m\u001b[0m\n\u001b[1;32m    963\u001b[0m       results = self._do_run(handle, final_targets, final_fetches,\n\u001b[0;32m--> 964\u001b[0;31m                              feed_dict_string, options, run_metadata)\n\u001b[0m\u001b[1;32m    965\u001b[0m     \u001b[0;32melse\u001b[0m\u001b[0;34m:\u001b[0m\u001b[0;34m\u001b[0m\u001b[0m\n\u001b[1;32m    966\u001b[0m       \u001b[0mresults\u001b[0m \u001b[0;34m=\u001b[0m \u001b[0;34m[\u001b[0m\u001b[0;34m]\u001b[0m\u001b[0;34m\u001b[0m\u001b[0m\n",
      "\u001b[0;32m/imatge/asalvador/workspace/sat_keras/venv/local/lib/python2.7/site-packages/tensorflow/python/client/session.pyc\u001b[0m in \u001b[0;36m_do_run\u001b[0;34m(self, handle, target_list, fetch_list, feed_dict, options, run_metadata)\u001b[0m\n\u001b[1;32m   1012\u001b[0m     \u001b[0;32mif\u001b[0m \u001b[0mhandle\u001b[0m \u001b[0;32mis\u001b[0m \u001b[0mNone\u001b[0m\u001b[0;34m:\u001b[0m\u001b[0;34m\u001b[0m\u001b[0m\n\u001b[1;32m   1013\u001b[0m       return self._do_call(_run_fn, self._session, feed_dict, fetch_list,\n\u001b[0;32m-> 1014\u001b[0;31m                            target_list, options, run_metadata)\n\u001b[0m\u001b[1;32m   1015\u001b[0m     \u001b[0;32melse\u001b[0m\u001b[0;34m:\u001b[0m\u001b[0;34m\u001b[0m\u001b[0m\n\u001b[1;32m   1016\u001b[0m       return self._do_call(_prun_fn, self._session, handle, feed_dict,\n",
      "\u001b[0;32m/imatge/asalvador/workspace/sat_keras/venv/local/lib/python2.7/site-packages/tensorflow/python/client/session.pyc\u001b[0m in \u001b[0;36m_do_call\u001b[0;34m(self, fn, *args)\u001b[0m\n\u001b[1;32m   1019\u001b[0m   \u001b[0;32mdef\u001b[0m \u001b[0m_do_call\u001b[0m\u001b[0;34m(\u001b[0m\u001b[0mself\u001b[0m\u001b[0;34m,\u001b[0m \u001b[0mfn\u001b[0m\u001b[0;34m,\u001b[0m \u001b[0;34m*\u001b[0m\u001b[0margs\u001b[0m\u001b[0;34m)\u001b[0m\u001b[0;34m:\u001b[0m\u001b[0;34m\u001b[0m\u001b[0m\n\u001b[1;32m   1020\u001b[0m     \u001b[0;32mtry\u001b[0m\u001b[0;34m:\u001b[0m\u001b[0;34m\u001b[0m\u001b[0m\n\u001b[0;32m-> 1021\u001b[0;31m       \u001b[0;32mreturn\u001b[0m \u001b[0mfn\u001b[0m\u001b[0;34m(\u001b[0m\u001b[0;34m*\u001b[0m\u001b[0margs\u001b[0m\u001b[0;34m)\u001b[0m\u001b[0;34m\u001b[0m\u001b[0m\n\u001b[0m\u001b[1;32m   1022\u001b[0m     \u001b[0;32mexcept\u001b[0m \u001b[0merrors\u001b[0m\u001b[0;34m.\u001b[0m\u001b[0mOpError\u001b[0m \u001b[0;32mas\u001b[0m \u001b[0me\u001b[0m\u001b[0;34m:\u001b[0m\u001b[0;34m\u001b[0m\u001b[0m\n\u001b[1;32m   1023\u001b[0m       \u001b[0mmessage\u001b[0m \u001b[0;34m=\u001b[0m \u001b[0mcompat\u001b[0m\u001b[0;34m.\u001b[0m\u001b[0mas_text\u001b[0m\u001b[0;34m(\u001b[0m\u001b[0me\u001b[0m\u001b[0;34m.\u001b[0m\u001b[0mmessage\u001b[0m\u001b[0;34m)\u001b[0m\u001b[0;34m\u001b[0m\u001b[0m\n",
      "\u001b[0;32m/imatge/asalvador/workspace/sat_keras/venv/local/lib/python2.7/site-packages/tensorflow/python/client/session.pyc\u001b[0m in \u001b[0;36m_run_fn\u001b[0;34m(session, feed_dict, fetch_list, target_list, options, run_metadata)\u001b[0m\n\u001b[1;32m   1001\u001b[0m         return tf_session.TF_Run(session, options,\n\u001b[1;32m   1002\u001b[0m                                  \u001b[0mfeed_dict\u001b[0m\u001b[0;34m,\u001b[0m \u001b[0mfetch_list\u001b[0m\u001b[0;34m,\u001b[0m \u001b[0mtarget_list\u001b[0m\u001b[0;34m,\u001b[0m\u001b[0;34m\u001b[0m\u001b[0m\n\u001b[0;32m-> 1003\u001b[0;31m                                  status, run_metadata)\n\u001b[0m\u001b[1;32m   1004\u001b[0m \u001b[0;34m\u001b[0m\u001b[0m\n\u001b[1;32m   1005\u001b[0m     \u001b[0;32mdef\u001b[0m \u001b[0m_prun_fn\u001b[0m\u001b[0;34m(\u001b[0m\u001b[0msession\u001b[0m\u001b[0;34m,\u001b[0m \u001b[0mhandle\u001b[0m\u001b[0;34m,\u001b[0m \u001b[0mfeed_dict\u001b[0m\u001b[0;34m,\u001b[0m \u001b[0mfetch_list\u001b[0m\u001b[0;34m)\u001b[0m\u001b[0;34m:\u001b[0m\u001b[0;34m\u001b[0m\u001b[0m\n",
      "\u001b[0;31mKeyboardInterrupt\u001b[0m: "
     ]
    }
   ],
   "source": [
    "captions = []\n",
    "num_samples = 0\n",
    "print_every = 100\n",
    "t = time.time()\n",
    "k = 1\n",
    "for [ims,prevs],caps,imids in gen:\n",
    "    \n",
    "    # beam search\n",
    "    word_idxs = np.zeros((k,args_dict.seqlen))\n",
    "    word_idxs[:,:] = 2\n",
    "    ### beam search caps ###\n",
    "    seqs,scores = beamsearch(model=model,image=ims,\n",
    "                             vocab_size = args_dict.vocab_size, \n",
    "                             start=1,eos=2,maxsample=args_dict.seqlen,k=k)\n",
    "    \n",
    "    seqs = np.array(seqs)[np.argsort(scores)[::-1][:k]]\n",
    "    for i,seq in enumerate(seqs):\n",
    "        word_idxs[i,:len(seq)-1] = seq[1:]\n",
    "    pred_caps = idx2word(word_idxs,inv_vocab)\n",
    "    true_caps = idx2word(np.argmax(caps,axis=-1),inv_vocab)\n",
    "\n",
    "    # true caption\n",
    "    print \"ID:\", imids[0]['file_name']\n",
    "    true_cap = ' '.join(true_caps[0])\n",
    "    print \"T:\", true_cap\n",
    "\n",
    "    print \"B:\",' '.join(pred_caps[0][:-1])\n",
    "    model.reset_states()\n",
    "\n",
    "    # greedy caps\n",
    "    prevs = np.ones((N,1))\n",
    "    word_idxs = np.zeros((N,args_dict.seqlen))\n",
    "\n",
    "    for i in range(args_dict.seqlen):\n",
    "        # get predictions\n",
    "        preds = model.predict_on_batch([ims,prevs]) #(N,1,vocab_size)\n",
    "        preds = preds.squeeze()\n",
    "\n",
    "        word_idxs[:,i] = np.argmax(preds,axis=-1)\n",
    "        prevs = np.argmax(preds,axis=-1)\n",
    "        prevs = np.reshape(prevs,(N,1))\n",
    "\n",
    "    pred_caps = idx2word(word_idxs,inv_vocab)\n",
    "    #true_caps = idx2word(np.argmax(caps,axis=-1),inv_vocab)\n",
    "\n",
    "    pred_cap = ' '.join(pred_caps[0][:-1])# exclude eos\n",
    "    print \"G:\", pred_cap\n",
    "    print \"=\"*10\n",
    "    \n",
    "    model.reset_states()\n"
   ]
  },
  {
   "cell_type": "code",
   "execution_count": null,
   "metadata": {
    "collapsed": true
   },
   "outputs": [],
   "source": []
  }
 ],
 "metadata": {
  "kernelspec": {
   "display_name": "Python 2",
   "language": "python",
   "name": "python2"
  },
  "language_info": {
   "codemirror_mode": {
    "name": "ipython",
    "version": 2
   },
   "file_extension": ".py",
   "mimetype": "text/x-python",
   "name": "python",
   "nbconvert_exporter": "python",
   "pygments_lexer": "ipython2",
   "version": "2.7.9"
  }
 },
 "nbformat": 4,
 "nbformat_minor": 2
}
